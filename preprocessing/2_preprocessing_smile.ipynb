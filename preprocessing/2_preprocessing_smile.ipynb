{
 "cells": [
  {
   "cell_type": "code",
   "execution_count": 2,
   "metadata": {},
   "outputs": [],
   "source": [
    "import os\n",
    "import numpy as np\n",
    "import pandas as pd"
   ]
  },
  {
   "cell_type": "code",
   "execution_count": 3,
   "metadata": {},
   "outputs": [],
   "source": [
    "# path_settings\n",
    "try:\n",
    "    from google.colab import drive\n",
    "    base_dir ='content/'\n",
    "    data_path='/'.join([base_dir,'data'])\n",
    "    \n",
    "except ModuleNotFoundError:\n",
    "    base_dir = '/Users/jack/Desktop/things/projects/samsung_material_discovery'\n",
    "    data_path='/'.join([base_dir,\"data\"])"
   ]
  },
  {
   "cell_type": "code",
   "execution_count": 4,
   "metadata": {},
   "outputs": [],
   "source": [
    "df_train=pd.read_csv(\"/\".join([data_path,\"train_set.ReorgE.csv\"]),index_col=0)\n",
    "df_test=pd.read_csv(\"/\".join([data_path,\"test_set.csv\"]), index_col=0)"
   ]
  },
  {
   "cell_type": "code",
   "execution_count": null,
   "metadata": {},
   "outputs": [],
   "source": []
  },
  {
   "cell_type": "code",
   "execution_count": 5,
   "metadata": {},
   "outputs": [],
   "source": [
    "from rdkit import Chem\n",
    "from rdkit.Chem import AllChem\n",
    "from rdkit import DataStructs\n",
    "from rdkit.Chem import Draw\n",
    "from rdkit.Chem.Draw import SimilarityMaps\n",
    "from rdkit import Chem, DataStructs\n",
    "from rdkit.Chem import MACCSkeys\n",
    "\n",
    "import numpy as np\n",
    "import pandas as pd"
   ]
  },
  {
   "cell_type": "code",
   "execution_count": 6,
   "metadata": {},
   "outputs": [],
   "source": [
    "import math\n",
    "train_fps = []#train fingerprints\n",
    "train_y_ex = [] #train y(label)\n",
    "train_y_g = []\n",
    "ffpp=\"pattern\"\n",
    "\n",
    "for index, row in df_train.iterrows() : \n",
    "  try : \n",
    "    mol = Chem.MolFromSmiles(row['SMILES'])\n",
    "    if ffpp == 'maccs' :    \n",
    "        fp = MACCSkeys.GenMACCSKeys(mol)\n",
    "    elif ffpp == 'morgan' : \n",
    "        fp = Chem.AllChem.GetMorganFingerprintAsBitVect(mol, 4)\n",
    "    elif ffpp == 'rdkit' : \n",
    "        fp = Chem.RDKFingerprint(mol)\n",
    "    elif ffpp == 'pattern' : \n",
    "        fp = Chem.rdmolops.PatternFingerprint(mol)\n",
    "    elif ffpp == 'layerd' : \n",
    "        fp = Chem.rdmolops.LayeredFingerprint(mol)\n",
    "\n",
    "    train_fps.append(fp)\n",
    "    train_y_ex.append(row['Reorg_ex'])\n",
    "    train_y_g.append(row['Reorg_g'])\n",
    "  except : \n",
    "    pass"
   ]
  },
  {
   "cell_type": "code",
   "execution_count": 8,
   "metadata": {},
   "outputs": [],
   "source": [
    "np_train_fps = []\n",
    "for fp in train_fps:\n",
    "  arr = np.zeros((0,))\n",
    "  DataStructs.ConvertToNumpyArray(fp, arr)\n",
    "  np_train_fps.append(arr)\n",
    "\n",
    "np_train_fps_array = np.array(np_train_fps)"
   ]
  },
  {
   "cell_type": "code",
   "execution_count": 10,
   "metadata": {},
   "outputs": [
    {
     "name": "stdout",
     "output_type": "stream",
     "text": [
      "(18157, 2048)\n",
      "18157\n"
     ]
    }
   ],
   "source": [
    "print(np_train_fps_array.shape)\n",
    "print(len(train_y_ex))"
   ]
  },
  {
   "cell_type": "code",
   "execution_count": null,
   "metadata": {},
   "outputs": [],
   "source": []
  }
 ],
 "metadata": {
  "kernelspec": {
   "display_name": "Python 3.10.6 ('vscode_env')",
   "language": "python",
   "name": "python3"
  },
  "language_info": {
   "codemirror_mode": {
    "name": "ipython",
    "version": 3
   },
   "file_extension": ".py",
   "mimetype": "text/x-python",
   "name": "python",
   "nbconvert_exporter": "python",
   "pygments_lexer": "ipython3",
   "version": "3.10.6"
  },
  "orig_nbformat": 4,
  "vscode": {
   "interpreter": {
    "hash": "045be1060b338312272277553d7b856893feeb0f00944ed750b5ad7470ce24e3"
   }
  }
 },
 "nbformat": 4,
 "nbformat_minor": 2
}

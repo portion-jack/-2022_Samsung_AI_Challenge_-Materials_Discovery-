{
 "cells": [
  {
   "cell_type": "code",
   "execution_count": 58,
   "metadata": {
    "pycharm": {
     "name": "#%%\n"
    }
   },
   "outputs": [],
   "source": [
    "import os\n",
    "import re\n",
    "import numpy as np\n",
    "import pandas as pd"
   ]
  },
  {
   "cell_type": "code",
   "execution_count": 2,
   "metadata": {
    "pycharm": {
     "name": "#%%\n"
    }
   },
   "outputs": [
    {
     "name": "stdout",
     "output_type": "stream",
     "text": [
      "/Users/jack/Desktop/things/projects/samsung_material_discovery/preprocessing\r\n"
     ]
    }
   ],
   "source": [
    "!pwd"
   ]
  },
  {
   "cell_type": "code",
   "execution_count": 3,
   "metadata": {
    "pycharm": {
     "name": "#%%\n"
    }
   },
   "outputs": [],
   "source": [
    "base_dir = '/Users/jack/Desktop/things/projects/samsung_material_discovery'\n",
    "data_path='/'.join([base_dir,\"data\"])"
   ]
  },
  {
   "cell_type": "code",
   "execution_count": 4,
   "outputs": [],
   "source": [
    "df_train=pd.read_csv(\"/\".join([data_path,\"train_set.ReorgE.csv\"]),index_col=0)\n",
    "df_test=pd.read_csv(\"/\".join([data_path,\"test_set.csv\"]), index_col=0)"
   ],
   "metadata": {
    "collapsed": false,
    "pycharm": {
     "name": "#%%\n"
    }
   }
  },
  {
   "cell_type": "code",
   "execution_count": 5,
   "outputs": [],
   "source": [
    "df_train.iloc[:,-2:].to_csv(\"/\".join([base_dir,'preprocessed_data/train_target.csv']))"
   ],
   "metadata": {
    "collapsed": false,
    "pycharm": {
     "name": "#%%\n"
    }
   }
  },
  {
   "cell_type": "code",
   "execution_count": 49,
   "outputs": [],
   "source": [
    "def read_mol(path):\n",
    "    mol_data = open(file=path,mode='r').read().split('\\n')\n",
    "    return mol_data\n",
    "\n",
    "def get_count(mol_data):\n",
    "    count=re.sub(' +',' ',mol_data[3].lstrip()).split(' ')[:2]\n",
    "    return count\n",
    "\n",
    "def get_location(mol_data):\n",
    "    li_location = list()\n",
    "    for _ in mol_data:\n",
    "        _ = _.lstrip()\n",
    "        _=re.sub(' +',' ',_).split(' ')\n",
    "        if len(_) == 16:\n",
    "            li_location.append(_[:4])\n",
    "    return li_location\n",
    "\n",
    "def get_bond(mol_data):\n",
    "    li_bond = list()\n",
    "    for _ in mol_data:\n",
    "        _ = _.lstrip()\n",
    "        _=re.sub(' +',' ',_).split(' ')\n",
    "        if len(_) == 4:\n",
    "            li_bond.append(_[:3])\n",
    "    return li_bond"
   ],
   "metadata": {
    "collapsed": false,
    "pycharm": {
     "name": "#%%\n"
    }
   }
  },
  {
   "cell_type": "code",
   "execution_count": 36,
   "outputs": [
    {
     "data": {
      "text/plain": "'/Users/jack/Desktop/things/projects/samsung_material_discovery/data/mol_file'"
     },
     "execution_count": 36,
     "metadata": {},
     "output_type": "execute_result"
    }
   ],
   "source": [
    "\"/\".join([base_dir,\"data/mol_file\"])"
   ],
   "metadata": {
    "collapsed": false,
    "pycharm": {
     "name": "#%%\n"
    }
   }
  },
  {
   "cell_type": "code",
   "execution_count": 78,
   "outputs": [],
   "source": [
    "for file_name in df_test.index:\n",
    "    for status in ['ex', 'g']:\n",
    "        path = \"/\".join([base_dir,\"data/mol_files/test_set/{0}_{1}.mol\".format(file_name,status)])\n",
    "        mol = read_mol(path)\n",
    "\n",
    "        count = np.array(get_count(mol)).reshape((1,2))\n",
    "        bond = np.array(get_bond(mol))\n",
    "        location = np.array(get_location(mol))\n",
    "        save_path = '/'.join([base_dir,'preprocessed_data/test_set'])\n",
    "        np.save(\"/\".join([save_path,\"{0}_{1}_bond\".format(file_name,status)]),bond)\n",
    "        np.save(\"/\".join([save_path,\"{0}_{1}_location\".format(file_name,status)]),location)\n",
    "    np.save(\"/\".join([save_path,\"{0}_count\".format(file_name)]),count)"
   ],
   "metadata": {
    "collapsed": false,
    "pycharm": {
     "name": "#%%\n"
    }
   }
  },
  {
   "cell_type": "code",
   "execution_count": null,
   "outputs": [],
   "source": [],
   "metadata": {
    "collapsed": false,
    "pycharm": {
     "name": "#%%\n"
    }
   }
  }
 ],
 "metadata": {
  "kernelspec": {
   "display_name": "Python 3.10.6 ('vscode_env')",
   "language": "python",
   "name": "python3"
  },
  "language_info": {
   "codemirror_mode": {
    "name": "ipython",
    "version": 3
   },
   "file_extension": ".py",
   "mimetype": "text/x-python",
   "name": "python",
   "nbconvert_exporter": "python",
   "pygments_lexer": "ipython3",
   "version": "3.10.6"
  },
  "orig_nbformat": 4,
  "vscode": {
   "interpreter": {
    "hash": "045be1060b338312272277553d7b856893feeb0f00944ed750b5ad7470ce24e3"
   }
  }
 },
 "nbformat": 4,
 "nbformat_minor": 2
}